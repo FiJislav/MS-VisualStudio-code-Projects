{
 "cells": [
  {
   "cell_type": "code",
   "execution_count": null,
   "metadata": {},
   "outputs": [],
   "source": [
    "#import excel data from sheet1, columns 5-10 and 12 and 25\n",
    "df = pd.read_excel('asd.xlsx', sheet_name='Sheet1', usecols=\"E:J, L, X\")\n",
    "#filter data besed on regex pattern\n",
    "df = df[df['Column 1'].str.contains('pattern', na=False)]"
   ]
  }
 ],
 "metadata": {
  "language_info": {
   "name": "python"
  },
  "orig_nbformat": 4
 },
 "nbformat": 4,
 "nbformat_minor": 2
}
